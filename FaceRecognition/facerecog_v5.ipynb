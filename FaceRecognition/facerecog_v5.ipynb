{
 "cells": [
  {
   "cell_type": "code",
   "execution_count": 16,
   "id": "a75aa951",
   "metadata": {},
   "outputs": [],
   "source": [
    "#insert all the libraries\n",
    "import cv2\n",
    "import numpy as np\n",
    "import face_recognition\n",
    "import pandas as pd\n",
    "import matplotlib.pyplot as plt\n",
    "import joblib\n",
    "import os\n",
    "import csv\n",
    "from csv import writer\n",
    "from datetime import date\n",
    "from tkinter import *\n",
    "import random\n",
    "import string"
   ]
  },
  {
   "cell_type": "code",
   "execution_count": 29,
   "id": "c1c9e516",
   "metadata": {},
   "outputs": [],
   "source": [
    "def facerecog_function(test_image):\n",
    "    faceDis = [1]\n",
    "    encodeListKnown = joblib.load('image_database.pkl')\n",
    "    facesCurFrame=face_recognition.face_locations(test_image)\n",
    "    encodeCurFrame= face_recognition.face_encodings(test_image,facesCurFrame)\n",
    "    for encodeFace, facLoc in zip(encodeCurFrame, facesCurFrame):\n",
    "        matches = face_recognition.compare_faces(encodeListKnown, encodeFace)\n",
    "        faceDis= face_recognition.face_distance(encodeListKnown, encodeFace)\n",
    "    if min(faceDis)<=0.5:\n",
    "        data=pd.read_csv(\"data.csv\")\n",
    "        matcheIndex= np.argmin(faceDis)\n",
    "        identifiedPerson = str(data.iloc[matcheIndex,:])\n",
    "        print(identifiedPerson)\n",
    " \n",
    "        \n",
    "    else:\n",
    "        print(\"this person is not in our database\")\n",
    "        #encode_test=face_recognition.face_encodings(test_image)[0]\n",
    "        #encodeListKnown.append(encode_test)\n",
    "        #joblib.dump(encodeListKnown, 'filename.pkl') \n",
    "        #entry_database()\n",
    "        "
   ]
  },
  {
   "cell_type": "code",
   "execution_count": 30,
   "id": "00e2d4bb",
   "metadata": {},
   "outputs": [],
   "source": [
    "def captureImage():\n",
    "    first_data = 'first_data'\n",
    "    serial = 0\n",
    "    cam = cv2.VideoCapture(0)\n",
    "    \n",
    "    if cam.isOpened():\n",
    "        ret,frame = cam.read()\n",
    "        \n",
    "    else:\n",
    "        ret=False\n",
    "    \n",
    "    test_image = cv2.cvtColor(frame,cv2.COLOR_BGR2RGB)\n",
    "    name_of_user_image = 'database/' + str(id_generator()) + '.jpg' \n",
    "    cv2.imwrite(name_of_user_image, frame)\n",
    "    \n",
    "    \n",
    "    with open('track.txt') as f:\n",
    "        for line in f:\n",
    "            data = line.split()\n",
    "            first_data= data[0]\n",
    "\n",
    "            \n",
    "    with open('track.txt', 'w') as f:\n",
    "        f.write('done')\n",
    "            \n",
    "    if first_data == '0':\n",
    "\n",
    "        ID = int(first_data)\n",
    "\n",
    "        todays_date = date.today()\n",
    "        header = ['ID', 'image_loc', 'name', 'phone_no','date']\n",
    "        data = [ID, name_of_user_image, 'Nabid', '01309055717', todays_date]\n",
    "        train_image=cv2.imread(name_of_user_image)\n",
    "        train_image=cv2.cvtColor(test_image,cv2.COLOR_BGR2RGB)\n",
    "        encode_train=face_recognition.face_encodings(train_image)\n",
    "        joblib.dump(encode_train, 'image_database.pkl') \n",
    "        \n",
    "        print(\"if\")\n",
    "        \n",
    "\n",
    "        \n",
    "        with open('data.csv', 'w', encoding='UTF8') as f:\n",
    "            writer = csv.writer(f)\n",
    "\n",
    "            # write the header\n",
    "            writer.writerow(header)\n",
    "\n",
    "            # write the data\n",
    "            writer.writerow(data)\n",
    "        \n",
    "        \n",
    "    else:\n",
    "        facerecog_function(test_image)"
   ]
  },
  {
   "cell_type": "code",
   "execution_count": 31,
   "id": "9b5f0665",
   "metadata": {},
   "outputs": [],
   "source": [
    "def id_generator(size=6, chars=string.ascii_uppercase + string.digits):\n",
    "    return ''.join(random.choice(chars) for _ in range(size))"
   ]
  },
  {
   "cell_type": "code",
   "execution_count": 32,
   "id": "4481e81a",
   "metadata": {},
   "outputs": [
    {
     "name": "stdout",
     "output_type": "stream",
     "text": [
      "ID                             0\n",
      "image_loc    database/7P236F.jpg\n",
      "name                       Nabid\n",
      "phone_no              1309055717\n",
      "date                  2022-02-10\n",
      "Name: 0, dtype: object\n"
     ]
    }
   ],
   "source": [
    "captureImage()"
   ]
  },
  {
   "cell_type": "code",
   "execution_count": null,
   "id": "303cdbd8",
   "metadata": {},
   "outputs": [],
   "source": []
  },
  {
   "cell_type": "code",
   "execution_count": null,
   "id": "7faf8cff",
   "metadata": {},
   "outputs": [],
   "source": []
  },
  {
   "cell_type": "code",
   "execution_count": null,
   "id": "1cc1662a",
   "metadata": {},
   "outputs": [],
   "source": [
    " "
   ]
  },
  {
   "cell_type": "code",
   "execution_count": null,
   "id": "8a486597",
   "metadata": {},
   "outputs": [],
   "source": []
  }
 ],
 "metadata": {
  "kernelspec": {
   "display_name": "Python 3",
   "language": "python",
   "name": "python3"
  },
  "language_info": {
   "codemirror_mode": {
    "name": "ipython",
    "version": 3
   },
   "file_extension": ".py",
   "mimetype": "text/x-python",
   "name": "python",
   "nbconvert_exporter": "python",
   "pygments_lexer": "ipython3",
   "version": "3.7.10"
  }
 },
 "nbformat": 4,
 "nbformat_minor": 5
}

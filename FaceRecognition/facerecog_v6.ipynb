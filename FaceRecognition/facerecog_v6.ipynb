{
 "cells": [
  {
   "cell_type": "code",
   "execution_count": 1,
   "id": "b378f22b",
   "metadata": {},
   "outputs": [],
   "source": [
    "import cv2\n",
    "import numpy as np\n",
    "import face_recognition\n",
    "import pandas as pd\n",
    "import matplotlib.pyplot as plt\n",
    "import joblib\n",
    "import os\n",
    "import csv\n",
    "from csv import writer\n",
    "from datetime import date\n",
    "from tkinter import *\n",
    "import random\n",
    "import string"
   ]
  },
  {
   "cell_type": "code",
   "execution_count": 2,
   "id": "2127e29e",
   "metadata": {},
   "outputs": [],
   "source": [
    "def id_generator(size=6, chars=string.ascii_uppercase + string.digits):\n",
    "    return ''.join(random.choice(chars) for _ in range(size))"
   ]
  },
  {
   "cell_type": "code",
   "execution_count": 15,
   "id": "9680a449",
   "metadata": {},
   "outputs": [],
   "source": [
    "def facerecog_function(test_image):\n",
    "    faceDis=[1]\n",
    "    encodeListKnown = joblib.load('database_v6.pkl') \n",
    "    facesCurFrame=face_recognition.face_locations(test_image)\n",
    "    encodeCurFrame= face_recognition.face_encodings(test_image,facesCurFrame)\n",
    "    for encodeFace, facLoc in zip(encodeCurFrame, facesCurFrame):\n",
    "        matches = face_recognition.compare_faces(encodeListKnown, encodeFace)\n",
    "        print(matches)\n",
    "        faceDis= face_recognition.face_distance(encodeListKnown, encodeFace)\n",
    "    if min(faceDis)<=0.5:\n",
    "        data=pd.read_csv(\"datadetails.csv\")\n",
    "        matcheIndex= np.argmin(faceDis)\n",
    "        print(matcheIndex)\n",
    "        #name = str(data.iloc[matcheIndex,2])\n",
    "        #print(name)\n",
    " \n",
    "        \n",
    "    else:\n",
    "        print(\"this person is not in our database\")\n",
    "        encode_train=face_recognition.face_encodings(test_image)[0]\n",
    "        encodeListKnown.append(encode_train)\n",
    "        joblib.dump(encodeListKnown, 'database_v6.pkl') \n"
   ]
  },
  {
   "cell_type": "code",
   "execution_count": 16,
   "id": "b2eba3c5",
   "metadata": {},
   "outputs": [],
   "source": [
    "def captureImage():\n",
    "    \n",
    "    cam = cv2.VideoCapture(0)\n",
    "\n",
    "    if cam.isOpened():\n",
    "        ret,frame = cam.read()\n",
    "\n",
    "    else:\n",
    "        ret=False\n",
    "            \n",
    "    name_of_user_image = 'database/' + str(id_generator()) + '.jpg' \n",
    "    cv2.imwrite(name_of_user_image, frame)\n",
    "\n",
    "    with open('track.txt') as f:\n",
    "        for line in f:\n",
    "            data = line.split()\n",
    "            first_data= data[0]\n",
    "\n",
    "            \n",
    "    with open('track.txt', 'w') as f:\n",
    "        f.write('done')\n",
    "        \n",
    "    if first_data == '0':\n",
    "        encodeList=[]\n",
    "        train_image=cv2.cvtColor(frame,cv2.COLOR_BGR2RGB)\n",
    "        encode_train=face_recognition.face_encodings(train_image)[0]\n",
    "        encodeList.append(encode_train)\n",
    "        joblib.dump(encodeList, 'database_v6.pkl') \n",
    "        \n",
    "        print(\"First image encode done\")\n",
    "        \n",
    "    else:\n",
    "        test_image= cv2.cvtColor(frame,cv2.COLOR_BGR2RGB)  \n",
    "        facerecog_function(test_image)"
   ]
  },
  {
   "cell_type": "code",
   "execution_count": 26,
   "id": "51c54c22",
   "metadata": {},
   "outputs": [
    {
     "name": "stdout",
     "output_type": "stream",
     "text": [
      "[False, True, True]\n",
      "1\n"
     ]
    }
   ],
   "source": [
    "captureImage()"
   ]
  },
  {
   "cell_type": "code",
   "execution_count": null,
   "id": "068c6dd3",
   "metadata": {},
   "outputs": [],
   "source": []
  },
  {
   "cell_type": "code",
   "execution_count": null,
   "id": "74795666",
   "metadata": {},
   "outputs": [],
   "source": []
  },
  {
   "cell_type": "code",
   "execution_count": null,
   "id": "9278967b",
   "metadata": {},
   "outputs": [],
   "source": []
  },
  {
   "cell_type": "code",
   "execution_count": null,
   "id": "ceb18614",
   "metadata": {},
   "outputs": [],
   "source": []
  },
  {
   "cell_type": "code",
   "execution_count": null,
   "id": "29f34a8f",
   "metadata": {},
   "outputs": [],
   "source": []
  },
  {
   "cell_type": "code",
   "execution_count": null,
   "id": "f8c5838e",
   "metadata": {},
   "outputs": [],
   "source": []
  },
  {
   "cell_type": "code",
   "execution_count": null,
   "id": "6492dee8",
   "metadata": {},
   "outputs": [],
   "source": []
  }
 ],
 "metadata": {
  "kernelspec": {
   "display_name": "Python 3",
   "language": "python",
   "name": "python3"
  },
  "language_info": {
   "codemirror_mode": {
    "name": "ipython",
    "version": 3
   },
   "file_extension": ".py",
   "mimetype": "text/x-python",
   "name": "python",
   "nbconvert_exporter": "python",
   "pygments_lexer": "ipython3",
   "version": "3.7.10"
  }
 },
 "nbformat": 4,
 "nbformat_minor": 5
}

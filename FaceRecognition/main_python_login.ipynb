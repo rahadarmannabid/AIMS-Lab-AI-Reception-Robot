{
 "cells": [
  {
   "cell_type": "code",
   "execution_count": 4,
   "id": "a3a663c6",
   "metadata": {},
   "outputs": [],
   "source": [
    "def checklogin():\n",
    "    !python facerecog_v4.py"
   ]
  },
  {
   "cell_type": "code",
   "execution_count": 7,
   "id": "cd922eea",
   "metadata": {},
   "outputs": [
    {
     "name": "stdout",
     "output_type": "stream",
     "text": [
      "Figure(640x480)\n",
      "nabid\n"
     ]
    }
   ],
   "source": [
    "checklogin()"
   ]
  },
  {
   "cell_type": "code",
   "execution_count": null,
   "id": "ad23e98d",
   "metadata": {},
   "outputs": [],
   "source": []
  }
 ],
 "metadata": {
  "kernelspec": {
   "display_name": "Python 3",
   "language": "python",
   "name": "python3"
  },
  "language_info": {
   "codemirror_mode": {
    "name": "ipython",
    "version": 3
   },
   "file_extension": ".py",
   "mimetype": "text/x-python",
   "name": "python",
   "nbconvert_exporter": "python",
   "pygments_lexer": "ipython3",
   "version": "3.7.10"
  }
 },
 "nbformat": 4,
 "nbformat_minor": 5
}

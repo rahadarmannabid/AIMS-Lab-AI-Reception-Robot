{
 "cells": [
  {
   "cell_type": "code",
   "execution_count": 93,
   "id": "e274ffa2",
   "metadata": {},
   "outputs": [],
   "source": [
    "import cv2\n",
    "import numpy as np\n",
    "import face_recognition\n",
    "import pandas as pd\n",
    "from six.moves import urllib"
   ]
  },
  {
   "cell_type": "code",
   "execution_count": 94,
   "id": "b714acaa",
   "metadata": {},
   "outputs": [
    {
     "data": {
      "text/plain": [
       "3"
      ]
     },
     "execution_count": 94,
     "metadata": {},
     "output_type": "execute_result"
    }
   ],
   "source": [
    "data=pd.read_csv(\"datadetails.csv\")\n",
    "data.head(5)\n",
    "row, col = data.shape\n",
    "row"
   ]
  },
  {
   "cell_type": "code",
   "execution_count": 95,
   "id": "9316b53b",
   "metadata": {},
   "outputs": [],
   "source": [
    "#def facerecognition_fun():\n",
    "test_image=face_recognition.load_image_file(\"4.jpg\")\n",
    "test_image=cv2.cvtColor(test_image,cv2.COLOR_BGR2RGB)\n",
    "encode_test=face_recognition.face_encodings(test_image)[0]"
   ]
  },
  {
   "cell_type": "code",
   "execution_count": 96,
   "id": "f005dd39",
   "metadata": {},
   "outputs": [
    {
     "name": "stdout",
     "output_type": "stream",
     "text": [
      "/home/ran/Desktop/Kaldi AIMS Lab/FaceRecognition/database/1.jpg\n",
      "[False]\n",
      "/home/ran/Desktop/Kaldi AIMS Lab/FaceRecognition/database/2.jpg\n",
      "[False]\n",
      "/home/ran/Desktop/Kaldi AIMS Lab/FaceRecognition/database/3.jpg\n",
      "[True]\n"
     ]
    }
   ],
   "source": [
    "for i in range(0,row):\n",
    "    img_dir= str(data.iloc[i,1])\n",
    "    print(img_dir)\n",
    "    train_image=face_recognition.load_image_file(img_dir)\n",
    "    train_image=cv2.cvtColor(train_image,cv2.COLOR_BGR2RGB)\n",
    "    encode_train=face_recognition.face_encodings(train_image)[0]\n",
    "    result=str(face_recognition.compare_faces([encode_train], encode_test))\n",
    "    #faceDis=face_recognition.face_distance([encode_train], encode_test)\n",
    "    print(result)\n",
    "    if result=='[True]':\n",
    "        name=str(data.iloc[i,2])"
   ]
  },
  {
   "cell_type": "code",
   "execution_count": null,
   "id": "a51a5767",
   "metadata": {},
   "outputs": [],
   "source": []
  }
 ],
 "metadata": {
  "kernelspec": {
   "display_name": "Python 3",
   "language": "python",
   "name": "python3"
  },
  "language_info": {
   "codemirror_mode": {
    "name": "ipython",
    "version": 3
   },
   "file_extension": ".py",
   "mimetype": "text/x-python",
   "name": "python",
   "nbconvert_exporter": "python",
   "pygments_lexer": "ipython3",
   "version": "3.7.10"
  }
 },
 "nbformat": 4,
 "nbformat_minor": 5
}
